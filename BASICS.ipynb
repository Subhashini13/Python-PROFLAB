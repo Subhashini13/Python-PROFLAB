{
 "cells": [
  {
   "cell_type": "markdown",
   "metadata": {},
   "source": [
    "### BASIC PROGRAM"
   ]
  },
  {
   "cell_type": "code",
   "execution_count": 1,
   "metadata": {},
   "outputs": [
    {
     "name": "stdout",
     "output_type": "stream",
     "text": [
      "Hello Universe\n"
     ]
    }
   ],
   "source": [
    "print(\"Hello Universe\")"
   ]
  },
  {
   "cell_type": "markdown",
   "metadata": {},
   "source": [
    "### TUPLES"
   ]
  },
  {
   "cell_type": "code",
   "execution_count": 2,
   "metadata": {},
   "outputs": [
    {
     "name": "stdout",
     "output_type": "stream",
     "text": [
      "<class 'tuple'>\n"
     ]
    }
   ],
   "source": [
    "programming_language=(\"Python\",\"Java\",\"C++\")\n",
    "print(type(programming_language))"
   ]
  },
  {
   "cell_type": "code",
   "execution_count": 3,
   "metadata": {},
   "outputs": [
    {
     "name": "stdout",
     "output_type": "stream",
     "text": [
      "Python\n",
      "Java\n",
      "C++\n"
     ]
    }
   ],
   "source": [
    "for language in programming_language:\n",
    "    print(language)"
   ]
  },
  {
   "cell_type": "markdown",
   "metadata": {},
   "source": [
    "### LISTS"
   ]
  },
  {
   "cell_type": "code",
   "execution_count": 4,
   "metadata": {},
   "outputs": [
    {
     "name": "stdout",
     "output_type": "stream",
     "text": [
      "[[0, 0, 0], [0, 0, 0], [0, 0, 0]]\n",
      "<class 'list'>\n"
     ]
    }
   ],
   "source": [
    "#lists\n",
    "game=[[0,0,0],\n",
    "      [0,0,0],\n",
    "      [0,0,0]]\n",
    "print(game)\n",
    "print(type(game))\n"
   ]
  },
  {
   "cell_type": "code",
   "execution_count": 6,
   "metadata": {},
   "outputs": [
    {
     "name": "stdout",
     "output_type": "stream",
     "text": [
      "[0, 0, 0]\n",
      "[0, 0, 0]\n",
      "[0, 0, 0]\n"
     ]
    }
   ],
   "source": [
    "for row in game:\n",
    "    print(row)"
   ]
  },
  {
   "cell_type": "code",
   "execution_count": 19,
   "metadata": {},
   "outputs": [
    {
     "name": "stdout",
     "output_type": "stream",
     "text": [
      "   0  1  2 \n",
      "0 [0, 0, 0]\n",
      "1 [0, 0, 0]\n",
      "2 [0, 0, 0]\n"
     ]
    }
   ],
   "source": [
    "#this is not best idea in python rather we will use built in functions\n",
    "print(\"   0  1  2 \")\n",
    "count = 0\n",
    "for row in game:\n",
    "    print(count,row)\n",
    "    count+=1"
   ]
  },
  {
   "cell_type": "markdown",
   "metadata": {},
   "source": [
    "### BUILT IN FUNCTION"
   ]
  },
  {
   "cell_type": "code",
   "execution_count": 18,
   "metadata": {},
   "outputs": [
    {
     "name": "stdout",
     "output_type": "stream",
     "text": [
      "   0  1  2 \n",
      "0 [0, 0, 0]\n",
      "1 [0, 0, 0]\n",
      "2 [0, 0, 0]\n"
     ]
    }
   ],
   "source": [
    "#built in functions\n",
    "print(\"   0  1  2 \")\n",
    "for count,row in enumerate(game):\n",
    "    print(count,row)"
   ]
  },
  {
   "cell_type": "code",
   "execution_count": 20,
   "metadata": {},
   "outputs": [
    {
     "data": {
      "text/plain": [
       "'\\nthis is multiline comments\\n'"
      ]
     },
     "execution_count": 20,
     "metadata": {},
     "output_type": "execute_result"
    }
   ],
   "source": [
    "'''\n",
    "this is multiline comments\n",
    "'''"
   ]
  },
  {
   "cell_type": "code",
   "execution_count": 22,
   "metadata": {},
   "outputs": [
    {
     "name": "stdout",
     "output_type": "stream",
     "text": [
      "0\n",
      "0\n",
      "0\n"
     ]
    }
   ],
   "source": [
    "for item in row:\n",
    "    print(item)"
   ]
  },
  {
   "cell_type": "markdown",
   "metadata": {},
   "source": [
    "### INDICES AND SLICES"
   ]
  },
  {
   "cell_type": "code",
   "execution_count": 29,
   "metadata": {},
   "outputs": [
    {
     "name": "stdout",
     "output_type": "stream",
     "text": [
      "2\n",
      "5\n",
      "[1, 2, 3]\n",
      "[1, 7, 3, 4, 5]\n"
     ]
    }
   ],
   "source": [
    "l = [1,2,3,4,5]\n",
    "print(l[1])\n",
    "print(l[-1])\n",
    "print(l[:3])\n",
    "l[1]=7\n",
    "print(l)"
   ]
  },
  {
   "cell_type": "code",
   "execution_count": 28,
   "metadata": {},
   "outputs": [
    {
     "name": "stdout",
     "output_type": "stream",
     "text": [
      "1\n",
      "   a  b  c \n",
      "0 [0, 1, 0]\n",
      "1 [0, 0, 0]\n",
      "2 [0, 0, 0]\n"
     ]
    }
   ],
   "source": [
    "game=[[0,0,0],\n",
    "      [0,0,0],\n",
    "      [0,0,0]]\n",
    "game[0][1]=1\n",
    "print(game[0][1])\n",
    "print(\"   a  b  c \")\n",
    "for count,row in enumerate(game):\n",
    "    print(count,row)"
   ]
  },
  {
   "cell_type": "markdown",
   "metadata": {},
   "source": [
    "### FUNCTIONS"
   ]
  },
  {
   "cell_type": "code",
   "execution_count": 33,
   "metadata": {},
   "outputs": [
    {
     "name": "stdout",
     "output_type": "stream",
     "text": [
      "   0  1  2 \n",
      "0 [0, 0, 0]\n",
      "1 [0, 0, 0]\n",
      "2 [0, 0, 0]\n",
      "   0  1  2 \n",
      "0 [0, 0, 1]\n",
      "1 [0, 0, 0]\n",
      "2 [0, 0, 0]\n"
     ]
    }
   ],
   "source": [
    "game=[[0,0,0],\n",
    "      [0,0,0],\n",
    "      [0,0,0]]\n",
    "def game_board():\n",
    "    print(\"   0  1  2 \")\n",
    "    for count,row in enumerate(game):\n",
    "        print(count,row)\n",
    "game_board()\n",
    "\n",
    "game[0][2]=1\n",
    "game_board()"
   ]
  },
  {
   "cell_type": "markdown",
   "metadata": {},
   "source": [
    "##### FUNCTION PARAMETERS"
   ]
  },
  {
   "cell_type": "code",
   "execution_count": 37,
   "metadata": {},
   "outputs": [
    {
     "name": "stdout",
     "output_type": "stream",
     "text": [
      "9\n",
      "hey there\n"
     ]
    }
   ],
   "source": [
    "def addition(x,y):\n",
    "    return x+y\n",
    "z= addition(5,4)\n",
    "print(z)\n",
    "m= addition(\"hey\",\" there\")\n",
    "print(m)"
   ]
  },
  {
   "cell_type": "code",
   "execution_count": 45,
   "metadata": {},
   "outputs": [
    {
     "name": "stdout",
     "output_type": "stream",
     "text": [
      "   0  1  2 \n",
      "0 [0, 0, 1]\n",
      "1 [0, 0, 0]\n",
      "2 [0, 1, [21]]\n",
      "   0  1  2 \n",
      "0 [0, 0, 1]\n",
      "1 [0, 0, 0]\n",
      "2 [0, 1, [21]]\n"
     ]
    }
   ],
   "source": [
    "def game_board(player=0, row=0, column=0, just_display=False):\n",
    "    print(\"   0  1  2 \")\n",
    "    if not just_display:\n",
    "        game[row][column ]= player\n",
    "    for count,row in enumerate(game):\n",
    "        print(count,row)\n",
    "game_board(just_display=True)\n",
    "game_board(player=1, row=2, column=1)\n"
   ]
  },
  {
   "cell_type": "code",
   "execution_count": 46,
   "metadata": {},
   "outputs": [
    {
     "name": "stdout",
     "output_type": "stream",
     "text": [
      "   0  1  2\n",
      "0 [2, 0, 0]\n",
      "1 [0, 0, 0]\n",
      "2 [0, 0, 0]\n"
     ]
    }
   ],
   "source": [
    "game = [[0, 0, 0],\n",
    "        [0, 0, 0],\n",
    "        [0, 0, 0]]\n",
    "\n",
    "\n",
    "def game_board(player, row, column):\n",
    "    game[row][column] = player\n",
    "    print(\"   0  1  2\")\n",
    "    for count, row in enumerate(game):\n",
    "        print(count, row)\n",
    "\n",
    "\n",
    "game_board(player=2, row=0, column=0)"
   ]
  },
  {
   "cell_type": "code",
   "execution_count": 48,
   "metadata": {},
   "outputs": [
    {
     "name": "stdout",
     "output_type": "stream",
     "text": [
      "   0  1  2\n",
      "0 [2, 0, 0]\n",
      "1 [0, 0, 0]\n",
      "2 [0, 0, 0]\n",
      "   0  1  2\n",
      "0 [2, 0, 0]\n",
      "1 [0, 0, 0]\n",
      "2 [0, 1, 0]\n"
     ]
    }
   ],
   "source": [
    "def game_board(player=0, row=0, column=0, just_display=False):\n",
    "    print(\"   0  1  2\")\n",
    "    if not just_display:\n",
    "        game[row][column] = player\n",
    "    for count, row in enumerate(game):\n",
    "        print(count, row)\n",
    "\n",
    "\n",
    "game_board(just_display=True)\n",
    "game_board(player=1, row=2, column=1)"
   ]
  },
  {
   "cell_type": "markdown",
   "metadata": {},
   "source": [
    "### MUTABILITY REVISTED"
   ]
  },
  {
   "cell_type": "code",
   "execution_count": 49,
   "metadata": {},
   "outputs": [
    {
     "name": "stdout",
     "output_type": "stream",
     "text": [
      "   0  1  2\n",
      "0 [0, 0, 0]\n",
      "1 [0, 0, 0]\n",
      "2 [0, 0, 0]\n",
      "   0  1  2\n",
      "0 [2, 0, 0]\n",
      "1 [0, 0, 0]\n",
      "2 [0, 0, 0]\n",
      "[[2, 0, 0], [0, 0, 0], [0, 0, 0]]\n",
      "2161701019720\n"
     ]
    }
   ],
   "source": [
    "game = [[0, 0, 0],\n",
    "        [0, 0, 0],\n",
    "        [0, 0, 0]]\n",
    "\n",
    "\n",
    "def game_board(current_game, player=0, row=0, column=0, just_display=False):\n",
    "    print(\"   0  1  2\")\n",
    "    if not just_display:\n",
    "        game[row][column] = player\n",
    "    for count, row in enumerate(current_game):\n",
    "        print(count, row)\n",
    "    return current_game\n",
    "\n",
    "\n",
    "game_board(game)\n",
    "game_board(game, player=2, row=0, column=0)\n",
    "\n",
    "print(game)\n",
    "print(id(game))"
   ]
  },
  {
   "cell_type": "code",
   "execution_count": 53,
   "metadata": {},
   "outputs": [
    {
     "name": "stdout",
     "output_type": "stream",
     "text": [
      "2161700297424\n",
      "2161700975600\n",
      "I want to play a game\n",
      "2161700297424\n"
     ]
    }
   ],
   "source": [
    "game = \"I want to play a game\"\n",
    "print(id(game))\n",
    "def game_board():\n",
    "    game = \"A game\"\n",
    "    print(id(game))\n",
    "\n",
    "game_board()\n",
    "print(game)\n",
    "print(id(game))"
   ]
  },
  {
   "cell_type": "code",
   "execution_count": 54,
   "metadata": {},
   "outputs": [
    {
     "name": "stdout",
     "output_type": "stream",
     "text": [
      "A game\n"
     ]
    }
   ],
   "source": [
    "#global\n",
    "game = \"I want to play a game\"\n",
    "\n",
    "\n",
    "def game_board():\n",
    "    global game\n",
    "    game = \"A game\"\n",
    "    return game\n",
    "\n",
    "\n",
    "game = game_board()\n",
    "print(game)"
   ]
  },
  {
   "cell_type": "code",
   "execution_count": 60,
   "metadata": {},
   "outputs": [
    {
     "name": "stdout",
     "output_type": "stream",
     "text": [
      "2161701069248\n",
      "2161701069248\n",
      "2161700302576\n",
      "A game\n",
      "2161700302576\n"
     ]
    }
   ],
   "source": [
    "game = \"I want to play a game\"\n",
    "print(id(game))\n",
    "\n",
    "def game_board():\n",
    "    global game\n",
    "    print(id(game))\n",
    "    \n",
    "    game = \"A game\"\n",
    "    print(id(game))\n",
    "    return game\n",
    "\n",
    "\n",
    "game = game_board()\n",
    "print(game)\n",
    "print(id(game))"
   ]
  },
  {
   "cell_type": "code",
   "execution_count": 61,
   "metadata": {},
   "outputs": [
    {
     "name": "stdout",
     "output_type": "stream",
     "text": [
      "1\n",
      "2\n",
      "[1]\n",
      "[2]\n",
      "[2]\n"
     ]
    }
   ],
   "source": [
    "#test\n",
    "x = 1\n",
    "def test():\n",
    "    x = 2\n",
    "test()\n",
    "print(x)\n",
    "\n",
    "\n",
    "x = 1\n",
    "def test():\n",
    "    global x\n",
    "    x = 2\n",
    "test()\n",
    "print(x)\n",
    "\n",
    "\n",
    "x = [1]\n",
    "def test():\n",
    "    x = [2]\n",
    "test()\n",
    "print(x)\n",
    "\n",
    "\n",
    "x = [1]\n",
    "def test():\n",
    "    global x\n",
    "    x = [2]\n",
    "test()\n",
    "print(x)\n",
    "\n",
    "\n",
    "x = [1]\n",
    "def test():\n",
    "    x[0] = 2\n",
    "test()\n",
    "print(x)"
   ]
  },
  {
   "cell_type": "markdown",
   "metadata": {},
   "source": [
    "### ERROR HANDLING"
   ]
  },
  {
   "cell_type": "code",
   "execution_count": 78,
   "metadata": {},
   "outputs": [
    {
     "name": "stdout",
     "output_type": "stream",
     "text": [
      "   0  1  2\n",
      "A bad thing just happened.\n"
     ]
    }
   ],
   "source": [
    "def game_board(game_map, player=0, row=0, column=0, just_display=False):\n",
    "    try:\n",
    "        print(\"   0  1  2\")\n",
    "        if not just_display:\n",
    "            game_map[row][column] = player\n",
    "        for count, row in enumerate(game_map):\n",
    "            print(count, row)\n",
    "        return game_map\n",
    "    except:\n",
    "        print(\"A bad thing just happened.\")\n",
    "        return False\n",
    "game = game_board(game, player=1, row=3, column=1)"
   ]
  },
  {
   "cell_type": "code",
   "execution_count": 79,
   "metadata": {},
   "outputs": [
    {
     "name": "stdout",
     "output_type": "stream",
     "text": [
      "   0  1  2\n",
      "'function' object is not subscriptable\n"
     ]
    }
   ],
   "source": [
    "game = [[0, 0, 0],\n",
    "        [0, 0, 0],\n",
    "        [0, 0, 0]]\n",
    "\n",
    "\n",
    "def game_board(game_map, player=0, row=0, column=0, just_display=False):\n",
    "    try:\n",
    "        print(\"   0  1  2\")\n",
    "        if not just_display:\n",
    "            game_map[row][column] = player\n",
    "        for count, row in enumerate(game_map):\n",
    "            print(count, row)\n",
    "        return game_map\n",
    "    except IndexError:\n",
    "        print(\"Did you attempt to play a row or column outside the range of 0,1 or 2? (IndexError)\")\n",
    "        return False\n",
    "    except Exception as e:\n",
    "        print(str(e))\n",
    "        return False\n",
    "\n",
    "\n",
    "game = game_board(game_board, player=1, row=3, column=1)"
   ]
  },
  {
   "cell_type": "markdown",
   "metadata": {},
   "source": [
    "### Calculating Horizontal Winner (tic tac toe) - Learning to Program"
   ]
  },
  {
   "cell_type": "code",
   "execution_count": 82,
   "metadata": {},
   "outputs": [
    {
     "name": "stdout",
     "output_type": "stream",
     "text": [
      "[1, 1, 1]\n",
      "WOHOOO ! WINNER\n",
      "[2, 2, 0]\n",
      "[1, 2, 0]\n"
     ]
    }
   ],
   "source": [
    "game = [[1, 1, 1],\n",
    "        [2, 2, 0],\n",
    "        [1, 2, 0]]\n",
    "def win(current_game):\n",
    "    for row in game:\n",
    "        print(row)\n",
    "        col1=row[0]\n",
    "        col2=row[1]\n",
    "        col3=row[2]\n",
    "        if col1==col2==col3:\n",
    "            print(\"WOHOOO ! WINNER\")\n",
    "win(game)"
   ]
  },
  {
   "cell_type": "code",
   "execution_count": 83,
   "metadata": {},
   "outputs": [],
   "source": [
    "def win(current_game):\n",
    "    for row in game:\n",
    "        print(row)\n",
    "        if row.count(row[0]) == len(row) and row[0] != 0:\n",
    "            print(\"Winner!\")\n",
    "            print(row[0])\n"
   ]
  },
  {
   "cell_type": "code",
   "execution_count": 87,
   "metadata": {},
   "outputs": [
    {
     "name": "stdout",
     "output_type": "stream",
     "text": [
      "[1, 1, 1]\n",
      "Winner!\n",
      "1\n",
      "[2, 2, 0]\n",
      "[1, 2, 0]\n",
      "Player 0 is the winner!\n"
     ]
    },
    {
     "data": {
      "text/plain": [
       "'we can use what\\'s called string formatting, specifically with f strings,\\nto better format variables into strings. An f string is just a string that is built \\nwith f\"\" rather than \"\". Inside of an f string, you can pass variables inside of curly braces ({ and })'"
      ]
     },
     "execution_count": 87,
     "metadata": {},
     "output_type": "execute_result"
    }
   ],
   "source": [
    "win(game)\n",
    "print(f\"Player {row[0]} is the winner!\")\n",
    "'''we can use what's called string formatting, specifically with f strings,\n",
    "to better format variables into strings. An f string is just a string that is built \n",
    "with f\"\" rather than \"\". Inside of an f string, you can pass variables inside of curly braces ({ and })'''\n"
   ]
  },
  {
   "cell_type": "markdown",
   "metadata": {},
   "source": [
    "### Calculating Vertical Winner (tic tac toe) - Learning to Program"
   ]
  },
  {
   "cell_type": "code",
   "execution_count": 100,
   "metadata": {},
   "outputs": [
    {
     "name": "stdout",
     "output_type": "stream",
     "text": [
      "winner\n"
     ]
    }
   ],
   "source": [
    "game = [[2, 1, 1],\n",
    "        [2, 2, 0],\n",
    "        [2, 2, 0]]\n",
    "for col in range(len(game)):\n",
    "    check=[]\n",
    "    for row in game:\n",
    "        check.append(row[col])\n",
    "    if check.count(row[0])==len(check) and check != 0:\n",
    "        print(\"winner\")\n"
   ]
  },
  {
   "cell_type": "code",
   "execution_count": 101,
   "metadata": {},
   "outputs": [
    {
     "name": "stdout",
     "output_type": "stream",
     "text": [
      "loser\n",
      "loser\n",
      "loser\n"
     ]
    }
   ],
   "source": [
    "game = [[2, 1, 1],\n",
    "        [0, 2, 0],\n",
    "        [2, 2, 0]]\n",
    "for col in range(len(game)):\n",
    "    check=[]\n",
    "    for row in game:\n",
    "        check.append(row[col])\n",
    "    if check.count(row[0])==len(check) and check != 0:\n",
    "        print(\"winner\")\n",
    "    else:\n",
    "        print(\"loser\")"
   ]
  },
  {
   "cell_type": "markdown",
   "metadata": {},
   "source": [
    "### Calculating Vertical Winner (tic tac toe) - Learning to Program"
   ]
  },
  {
   "cell_type": "code",
   "execution_count": 102,
   "metadata": {},
   "outputs": [
    {
     "name": "stdout",
     "output_type": "stream",
     "text": [
      "winner!\n"
     ]
    }
   ],
   "source": [
    "game = [[1, 0, 1],\n",
    "        [1, 1, 2],\n",
    "        [2, 2, 1]]\n",
    "if game[0][0] == game[1][1] == game[2][2] and game[0][0] != 0:\n",
    "    print(\"winner!\")\n",
    "\n",
    "elif game[2][0] == game[1][1] == game[0][2] and game[2][0] != 0:\n",
    "    print(\"winner!\")"
   ]
  },
  {
   "cell_type": "code",
   "execution_count": 103,
   "metadata": {},
   "outputs": [
    {
     "name": "stdout",
     "output_type": "stream",
     "text": [
      "[1, 1, 1]\n"
     ]
    }
   ],
   "source": [
    "game = [[1, 0, 1],\n",
    "        [1, 1, 2],\n",
    "        [2, 2, 1]]\n",
    "\n",
    "diags = []\n",
    "for ix in range(len(game)):\n",
    "    diags.append(game[ix][ix])\n",
    "\n",
    "print(diags)"
   ]
  },
  {
   "cell_type": "code",
   "execution_count": 104,
   "metadata": {},
   "outputs": [
    {
     "name": "stdout",
     "output_type": "stream",
     "text": [
      "Winner!\n"
     ]
    }
   ],
   "source": [
    "game = [[0, 0, 1],\n",
    "        [0, 1, 2],\n",
    "        [1, 2, 1]]\n",
    "\n",
    "\n",
    "diags = []\n",
    "for idx, reverse_idx in enumerate(reversed(range(len(game)))):\n",
    "    diags.append(game[idx][reverse_idx])\n",
    "\n",
    "\n",
    "if diags.count(diags[0]) == len(diags) and diags[0] != 0:\n",
    "    print(\"Winner!\")"
   ]
  },
  {
   "cell_type": "code",
   "execution_count": null,
   "metadata": {},
   "outputs": [],
   "source": [
    "game = [[0, 0, 1],\n",
    "        [0, 1, 2],\n",
    "        [1, 2, 1]]\n",
    "\n",
    "\n",
    "def win(current_game):\n",
    "    # horizontal\n",
    "    for row in game:\n",
    "        print(row)\n",
    "        if row.count(row[0]) == len(row) and row[0] != 0:\n",
    "            print(f\"Player {row[0]} is the winner horizontally!\")\n",
    "    # vertical\n",
    "    for col in range(len(game[0])):\n",
    "        check = []\n",
    "        for row in game:\n",
    "            check.append(row[col])\n",
    "        if check.count(check[0]) == len(check) and check[0] != 0:\n",
    "            print(f\"Player {check[0]} is the winner vertically!\")\n",
    "\n",
    "    # / diagonal\n",
    "    diags = []\n",
    "    for idx, reverse_idx in enumerate(reversed(range(len(game)))):\n",
    "        diags.append(game[idx][reverse_idx])\n",
    "\n",
    "    if diags.count(diags[0]) == len(diags) and diags[0] != 0:\n",
    "        print(f\"Player {diags[0]} has won Diagonally (/)\")\n",
    "\n",
    "    # \\ diagonal\n",
    "    diags = []\n",
    "    for ix in range(len(game)):\n",
    "        diags.append(game[ix][ix])\n",
    "\n",
    "    if diags.count(diags[0]) == len(diags) and diags[0] != 0:\n",
    "        print(f\"Player {diags[0]} has won Diagonally (\\\\)\")\n",
    "\n",
    "def game_board(game_map, player=0, row=0, column=0, just_display=False):\n",
    "    try:\n",
    "        print(\"   0  1  2\")\n",
    "        if not just_display:\n",
    "            game_map[row][column] = player\n",
    "        for count, row in enumerate(game_map):\n",
    "            print(count, row)\n",
    "        return game_map\n",
    "    except IndexError:\n",
    "        print(\"Did you attempt to play a row or column outside the range of 0,1 or 2? (IndexError)\")\n",
    "        return False\n",
    "    except Exception as e:\n",
    "        print(str(e))\n",
    "        return False\n",
    "\n",
    "\n",
    "#game = game_board(game, player=1, row=2, column=1)\n",
    "win(game)\n",
    "play = True\n",
    "players = [1, 2]\n",
    "while play:\n",
    "    game = [[0, 0, 0],\n",
    "            [0, 0, 0],\n",
    "            [0, 0, 0]]\n",
    "    game_won= False\n",
    "    game_board(game, just_display=True)\n",
    "\n",
    "    while not game_won:\n",
    "        print(f\"Player: {current_player}\")\n",
    "        column_choice = int(input(\"Which column? \"))\n",
    "        row_choice = int(input(\"Which row? \"))"
   ]
  },
  {
   "cell_type": "code",
   "execution_count": null,
   "metadata": {},
   "outputs": [],
   "source": []
  }
 ],
 "metadata": {
  "kernelspec": {
   "display_name": "Python 3",
   "language": "python",
   "name": "python3"
  },
  "language_info": {
   "codemirror_mode": {
    "name": "ipython",
    "version": 3
   },
   "file_extension": ".py",
   "mimetype": "text/x-python",
   "name": "python",
   "nbconvert_exporter": "python",
   "pygments_lexer": "ipython3",
   "version": "3.7.4"
  }
 },
 "nbformat": 4,
 "nbformat_minor": 2
}

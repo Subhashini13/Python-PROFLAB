{
 "cells": [
  {
   "cell_type": "markdown",
   "metadata": {},
   "source": [
    "# CSV file"
   ]
  },
  {
   "cell_type": "code",
   "execution_count": 21,
   "metadata": {},
   "outputs": [],
   "source": [
    "import csv\n",
    "with open('result.csv', 'w', newline='') as csvfile:\n",
    "  fieldnames = ['First Name', 'Last Name', 'Result']\n",
    "  writer = csv.DictWriter(csvfile, fieldnames = fieldnames)\n",
    "  writer.writeheader()\n",
    "  writer.writerow({'First Name':'Subhashini',\n",
    "                  'Last Name': 'Kanth',\n",
    "                  'Result': 100})\n",
    "  writer.writerow({'First Name':'Kriti',\n",
    "                  'Last Name': 'Kumari',\n",
    "                  'Result': 99})\n",
    "  writer.writerow({'First Name':'Shweta',\n",
    "                  'Last Name': 'Thakur',\n",
    "                  'Result': 98})"
   ]
  },
  {
   "cell_type": "code",
   "execution_count": 22,
   "metadata": {},
   "outputs": [
    {
     "name": "stdout",
     "output_type": "stream",
     "text": [
      "Ceting CSV file\n"
     ]
    }
   ],
   "source": [
    "import csv\n",
    "# To create csv file\n",
    "print('Ceting CSV file')\n",
    "with open('sample.csv', 'w', newline='') as csvfile:\n",
    "  writer=csv.writer(csvfile)\n",
    "  writer.writerow(['She loves you', 'Sept 1963'])\n",
    "  writer.writerow(['I want to hold your hand', 'Dec 1963'])\n",
    "  writer.writerow(['Cant buy me love', 'Apr 1964'])\n",
    "  writer.writerow(['A hard days night', 'July 1963'])"
   ]
  },
  {
   "cell_type": "code",
   "execution_count": 23,
   "metadata": {},
   "outputs": [
    {
     "name": "stdout",
     "output_type": "stream",
     "text": [
      "Starting to read csv file\n",
      "She loves you, Sept 1963\n",
      "I want to hold your hand, Dec 1963\n",
      "Cant buy me love, Apr 1964\n",
      "A hard days night, July 1963\n",
      "done reading\n"
     ]
    }
   ],
   "source": [
    "import csv\n",
    "print('Starting to read csv file')\n",
    "with open('sample.csv','r', newline='') as csvfile:\n",
    " reader = csv.reader(csvfile)\n",
    " for row in reader:\n",
    "    print(*row, sep=', ')\n",
    "    \n",
    "    \n",
    "print('done reading')"
   ]
  },
  {
   "cell_type": "code",
   "execution_count": null,
   "metadata": {},
   "outputs": [],
   "source": []
  },
  {
   "cell_type": "code",
   "execution_count": null,
   "metadata": {},
   "outputs": [],
   "source": []
  },
  {
   "cell_type": "code",
   "execution_count": null,
   "metadata": {},
   "outputs": [],
   "source": []
  }
 ],
 "metadata": {
  "kernelspec": {
   "display_name": "Python 3",
   "language": "python",
   "name": "python3"
  },
  "language_info": {
   "codemirror_mode": {
    "name": "ipython",
    "version": 3
   },
   "file_extension": ".py",
   "mimetype": "text/x-python",
   "name": "python",
   "nbconvert_exporter": "python",
   "pygments_lexer": "ipython3",
   "version": "3.7.4"
  }
 },
 "nbformat": 4,
 "nbformat_minor": 2
}

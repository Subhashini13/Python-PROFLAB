{
 "cells": [
  {
   "cell_type": "markdown",
   "metadata": {},
   "source": [
    "# Python Program for Bank account "
   ]
  },
  {
   "cell_type": "code",
   "execution_count": 1,
   "metadata": {},
   "outputs": [],
   "source": [
    "class Account(object):\n",
    "    def __init__(self , account_number, account_holder_name, opening_balance, type_of_account):\n",
    "        \n",
    "        print(\"\\n Hello ! Welcome to The bank ...\")\n",
    "        \n",
    "        self.acc_no  = account_number\n",
    "        self.name = account_holder_name\n",
    "        self.balance = opening_balance\n",
    "        self.ac_type = type_of_account\n",
    "        \n",
    "#deposit fun\n",
    "    def deposit(self, amount):\n",
    "        amount = float(input(\"Enter the amount to be deposited: \"))\n",
    "        self.balance += amount\n",
    "        print(\"\\n Deposited amount =  \", amount)\n",
    "    def withdraw(self, amount):\n",
    "        amount = float(input(\"Enter the amount to be withdrawl : \"))\n",
    "        if self.balance >= amount:\n",
    "            self.balance -= amount\n",
    "            print(\"\\n You withdrew :\", amount)\n",
    "        else:\n",
    "            print(\"\\n Insufficient Balance \")\n",
    "    def get_balance(self):\n",
    "        print(\"\\n Net Balance Available = \", self.balance)\n",
    "\n",
    "\n"
   ]
  },
  {
   "cell_type": "code",
   "execution_count": 5,
   "metadata": {},
   "outputs": [
    {
     "name": "stdout",
     "output_type": "stream",
     "text": [
      "starting\n",
      "\n",
      " Hello ! Welcome to The bank ...\n",
      "Enter the amount to be deposited: 399\n",
      "\n",
      " Deposited amount =   399.0\n",
      "Enter the amount to be withdrawl : 355\n",
      "\n",
      " You withdrew : 355.0\n",
      "\n",
      " Net Balance Available =  50044.0\n",
      "writing Transaction\n"
     ]
    },
    {
     "ename": "NameError",
     "evalue": "name 'write_account_transaction_to_csv' is not defined",
     "output_type": "error",
     "traceback": [
      "\u001b[1;31m---------------------------------------------------------------------------\u001b[0m",
      "\u001b[1;31mNameError\u001b[0m                                 Traceback (most recent call last)",
      "\u001b[1;32m<ipython-input-5-527b927ce20d>\u001b[0m in \u001b[0;36m<module>\u001b[1;34m\u001b[0m\n\u001b[0;32m     17\u001b[0m \u001b[1;33m\u001b[0m\u001b[0m\n\u001b[0;32m     18\u001b[0m \u001b[0mprint\u001b[0m\u001b[1;33m(\u001b[0m\u001b[1;34m'writing Transaction'\u001b[0m\u001b[1;33m)\u001b[0m\u001b[1;33m\u001b[0m\u001b[1;33m\u001b[0m\u001b[0m\n\u001b[1;32m---> 19\u001b[1;33m \u001b[0mwrite_account_transaction_to_csv\u001b[0m\u001b[1;33m(\u001b[0m\u001b[1;34m'Account.csv'\u001b[0m\u001b[1;33m,\u001b[0m \u001b[0mamount\u001b[0m\u001b[1;33m)\u001b[0m\u001b[1;33m\u001b[0m\u001b[1;33m\u001b[0m\u001b[0m\n\u001b[0m\u001b[0;32m     20\u001b[0m \u001b[1;33m\u001b[0m\u001b[0m\n\u001b[0;32m     21\u001b[0m \u001b[0mprint\u001b[0m\u001b[1;33m(\u001b[0m\u001b[1;34m'done'\u001b[0m\u001b[1;33m)\u001b[0m\u001b[1;33m\u001b[0m\u001b[1;33m\u001b[0m\u001b[0m\n",
      "\u001b[1;31mNameError\u001b[0m: name 'write_account_transaction_to_csv' is not defined"
     ]
    }
   ],
   "source": [
    "# Account\n",
    "import csv\n",
    "with open('Account.csv', 'w', newline='') as csvfile:\n",
    "  fieldnames = ['Transaction_type', 'Transacted_Amount']\n",
    "  writer = csv.DictWriter(csvfile, fieldnames = fieldnames)\n",
    "    \n",
    "  \n",
    "\n",
    "print('starting')\n",
    "\n",
    "#def write_account_transactions_to_csv( ):\n",
    "a = Account('10002','Suhan', 50000 , 'Current')\n",
    "\n",
    "a.deposit(1000)\n",
    "a.withdraw(5000)\n",
    "a.get_balance()\n",
    "\n",
    "print('writing Transaction')\n",
    "write_account_transaction_to_csv('Account.csv', amount)\n",
    "\n",
    "print('done')"
   ]
  },
  {
   "cell_type": "code",
   "execution_count": null,
   "metadata": {},
   "outputs": [],
   "source": []
  },
  {
   "cell_type": "code",
   "execution_count": null,
   "metadata": {},
   "outputs": [],
   "source": []
  }
 ],
 "metadata": {
  "kernelspec": {
   "display_name": "Python 3",
   "language": "python",
   "name": "python3"
  },
  "language_info": {
   "codemirror_mode": {
    "name": "ipython",
    "version": 3
   },
   "file_extension": ".py",
   "mimetype": "text/x-python",
   "name": "python",
   "nbconvert_exporter": "python",
   "pygments_lexer": "ipython3",
   "version": "3.7.4"
  }
 },
 "nbformat": 4,
 "nbformat_minor": 2
}
